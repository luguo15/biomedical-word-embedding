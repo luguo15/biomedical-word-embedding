{
 "cells": [
  {
   "cell_type": "markdown",
   "metadata": {},
   "source": [
    "# Word Embeddings Alignment"
   ]
  },
  {
   "cell_type": "markdown",
   "metadata": {},
   "source": [
    "This file is used to align different word embeddings so that they are comparable."
   ]
  },
  {
   "cell_type": "code",
   "execution_count": 30,
   "metadata": {},
   "outputs": [],
   "source": [
    "# import the base word embedding model 2022/pubmed_mesh_test\n",
    "from gensim.models import KeyedVectors\n",
    "from nltk.corpus import stopwords\n",
    "from numpy import array\n",
    "from scipy.linalg import orthogonal_procrustes\n",
    "import numpy as np\n",
    "from scipy.spatial import procrustes\n",
    "from sklearn.preprocessing import normalize"
   ]
  },
  {
   "cell_type": "code",
   "execution_count": 8,
   "metadata": {},
   "outputs": [],
   "source": [
    "# Load the base fasttext model\n",
    "base_2022 = KeyedVectors.load_word2vec_format('2022/pubmed_mesh_test.bin', binary=True)\n",
    "\n",
    "# Load the other fasttext model\n",
    "other_2023 = KeyedVectors.load_word2vec_format('2023/pubmed_mesh_test.bin', binary=True)\n"
   ]
  },
  {
   "cell_type": "code",
   "execution_count": 11,
   "metadata": {},
   "outputs": [
    {
     "data": {
      "text/plain": [
       "[('palliative-care', 0.7936036586761475),\n",
       " ('causative', 0.7582331299781799),\n",
       " ('pain-postoperative', 0.7546006441116333),\n",
       " ('sativa', 0.7240142226219177),\n",
       " ('neck-pain', 0.7199922800064087),\n",
       " ('palliative-medicine', 0.7172513604164124),\n",
       " ('dissipative', 0.7167489528656006),\n",
       " ('curative', 0.7110295295715332),\n",
       " ('putative', 0.7090983390808105),\n",
       " ('cumulative', 0.7028390169143677)]"
      ]
     },
     "execution_count": 11,
     "metadata": {},
     "output_type": "execute_result"
    }
   ],
   "source": [
    "base_2022.most_similar('palliative', topn=10)"
   ]
  },
  {
   "cell_type": "code",
   "execution_count": 12,
   "metadata": {},
   "outputs": [
    {
     "data": {
      "text/plain": [
       "[('palliation', 0.8846188187599182),\n",
       " ('palliative-care', 0.7507857084274292),\n",
       " ('pain', 0.6960252523422241),\n",
       " ('neck-pain', 0.6956680417060852),\n",
       " ('painless', 0.6946257948875427),\n",
       " ('pallipes', 0.6869878172874451),\n",
       " ('painful', 0.6772063970565796),\n",
       " ('palliative-medicine', 0.675298273563385),\n",
       " ('glossalgia', 0.6746705174446106),\n",
       " ('pain-postoperative', 0.660344123840332)]"
      ]
     },
     "execution_count": 12,
     "metadata": {},
     "output_type": "execute_result"
    }
   ],
   "source": [
    "other_2023.most_similar('palliative', topn=10)"
   ]
  },
  {
   "cell_type": "markdown",
   "metadata": {},
   "source": [
    "# Align other embedding to base embeddings via Procrustes.\n",
    "# Returns best distance-preserving aligned version of other_embed"
   ]
  },
  {
   "cell_type": "code",
   "execution_count": 15,
   "metadata": {},
   "outputs": [],
   "source": [
    "from gensim.models import KeyedVectors\n",
    "from sklearn.preprocessing import normalize\n",
    "from scipy.linalg import orthogonal_procrustes\n",
    "\n",
    "# Load the base fasttext model\n",
    "base_2022 = KeyedVectors.load_word2vec_format('2022/pubmed_mesh_test.bin', binary=True)\n",
    "\n",
    "# Load the other fasttext model\n",
    "other_2023 = KeyedVectors.load_word2vec_format('2023/pubmed_mesh_test.bin', binary=True)\n",
    "\n"
   ]
  },
  {
   "cell_type": "code",
   "execution_count": 31,
   "metadata": {},
   "outputs": [],
   "source": [
    "\n",
    "def intersection_align(base_embed, other_embed, post_normalize=True):\n",
    "    \"\"\" \n",
    "        Get the intersection of two embeddings.\n",
    "        Returns embeddings with common vocabulary and indices.\n",
    "    \"\"\"\n",
    "    # Get the common vocabulary\n",
    "    common_vocab = list(set(base_embed.index_to_key).intersection(other_embed.index_to_key))\n",
    "    # Filter the embeddings\n",
    "    base_embed = {word: base_embed[word] for word in common_vocab}\n",
    "    other_embed = {word: other_embed[word] for word in common_vocab}\n",
    "    # Normalize the embeddings\n",
    "    if post_normalize:\n",
    "        base_embed = {word: normalize(base_embed[word].reshape(1, -1))[0] for word in common_vocab}\n",
    "        other_embed = {word: normalize(other_embed[word].reshape(1, -1))[0] for word in common_vocab}\n",
    "    return base_embed, other_embed\n"
   ]
  },
  {
   "cell_type": "code",
   "execution_count": 47,
   "metadata": {},
   "outputs": [],
   "source": [
    "def smart_procrustes_align(base_embed, other_embed, post_normalize=True):\n",
    "    \"\"\" \n",
    "        Procrustes align two embeddings.\n",
    "        Returns the aligned embeddings.\n",
    "    \"\"\"\n",
    "    # Get the intersection of the embeddings\n",
    "    base_embed, other_embed = intersection_align(base_embed, other_embed, post_normalize = True)\n",
    "    \n",
    "    # Get the embeddings as arrays\n",
    "    base_vecs = np.array([base_embed[word] for word in base_embed])\n",
    "    other_vecs = np.array([other_embed[word] for word in other_embed])\n",
    "\n",
    "    # Use the orthogonal procrustes to get the aligned embeddings\n",
    "    R, _ = orthogonal_procrustes(base_vecs, other_vecs)\n",
    "    other_vecs = other_vecs @ R # apply the rotation\n",
    "\n",
    "    # Update the other embeddings\n",
    "    other_embed = {word: other_vecs[i] for i, word in enumerate(other_embed)}\n",
    "\n",
    "    # convert the embeddings back to word2vec format\n",
    "    other_embed = {word: other_embed[word] for word in other_embed}\n",
    "\n",
    "    return base_embed, other_embed"
   ]
  },
  {
   "cell_type": "code",
   "execution_count": 48,
   "metadata": {},
   "outputs": [],
   "source": [
    "# Example usage:\n",
    "base_model, aligned_model = smart_procrustes_align(base_2022, other_2023)"
   ]
  },
  {
   "cell_type": "code",
   "execution_count": 49,
   "metadata": {},
   "outputs": [
    {
     "data": {
      "text/plain": [
       "array([ 0.00553191,  0.00658249,  0.04680343,  0.06891567,  0.06009813,\n",
       "        0.05494593, -0.02380475, -0.00923096, -0.12136691,  0.00614625,\n",
       "        0.00608535, -0.19401045, -0.00097779,  0.02796242,  0.02396979,\n",
       "       -0.05970353,  0.0457505 ,  0.02086798, -0.01560881, -0.02480836,\n",
       "        0.00543756,  0.09524553,  0.11865124,  0.05304628,  0.14279479,\n",
       "       -0.0574504 , -0.01200654, -0.10503849, -0.01333171,  0.05044436,\n",
       "       -0.04175837, -0.0705239 , -0.05988171,  0.11426616, -0.07370894,\n",
       "       -0.06616486, -0.03610885, -0.05010739, -0.02033391,  0.0265418 ,\n",
       "       -0.0751792 , -0.05227342, -0.14836527,  0.09652365, -0.03234688,\n",
       "        0.02281607,  0.11713756,  0.06727903, -0.0247967 , -0.02398182,\n",
       "       -0.08572464,  0.01388761,  0.0417374 ,  0.0696085 , -0.1067835 ,\n",
       "        0.04137561, -0.09243348, -0.00956628,  0.19666839, -0.04927925,\n",
       "        0.04281805,  0.01232423,  0.07845285, -0.04139845,  0.07524712,\n",
       "        0.04571496,  0.02030768, -0.05848851, -0.11516216,  0.00553661,\n",
       "        0.01593119, -0.04395224, -0.07401378,  0.07494211,  0.02145479,\n",
       "       -0.06011904,  0.06861725, -0.20062406, -0.00483748, -0.07144906,\n",
       "       -0.0252798 ,  0.02418928, -0.03347457, -0.06103686, -0.09043546,\n",
       "       -0.03494621,  0.06649962,  0.07727911,  0.04696507,  0.09392821,\n",
       "        0.01659796,  0.04620299,  0.18623085, -0.07968042, -0.06320201,\n",
       "       -0.0740158 , -0.05147027, -0.05436885, -0.05508947,  0.01706629,\n",
       "       -0.10462958, -0.09953205, -0.01578463,  0.02003505,  0.05012465,\n",
       "       -0.0187591 ,  0.12203339,  0.12232244, -0.09932913, -0.04955071,\n",
       "       -0.04515379, -0.03743709, -0.00771754, -0.10176866, -0.05553126,\n",
       "        0.05398588, -0.01127682,  0.00320699,  0.03608382,  0.11817528,\n",
       "       -0.06789144,  0.17653331, -0.02935416, -0.11228875, -0.13027346,\n",
       "       -0.04264977, -0.04414035, -0.11869895,  0.02120308,  0.08453545,\n",
       "       -0.01261956,  0.02002801,  0.02766215, -0.01367701, -0.03997851,\n",
       "        0.08158186,  0.12235472,  0.03276073, -0.08985291,  0.02654738,\n",
       "        0.00679087, -0.05079455,  0.09242607, -0.11101785, -0.0275362 ,\n",
       "        0.00984803, -0.07322834,  0.07127479, -0.05202332,  0.02285299,\n",
       "        0.00031633,  0.04973293, -0.04587621,  0.01858   ,  0.07250661,\n",
       "       -0.05123282, -0.05126485, -0.06897802, -0.094387  ,  0.10585535,\n",
       "        0.05741208,  0.00680688, -0.00270732,  0.11722892,  0.12093144,\n",
       "       -0.10303221,  0.00548113, -0.03499254,  0.01521871, -0.07186094,\n",
       "        0.033114  ,  0.03734716, -0.01208406, -0.08010294,  0.11069012,\n",
       "        0.11197404,  0.00646612, -0.03959591,  0.00240267,  0.09116814,\n",
       "       -0.13428983, -0.04115793, -0.03187343, -0.05170766,  0.05422048,\n",
       "       -0.02696669,  0.02234883, -0.09851637, -0.02612788, -0.03790605,\n",
       "       -0.049938  ,  0.04592691, -0.02007879, -0.02681941, -0.07104715,\n",
       "       -0.05244425, -0.12344893, -0.04841792, -0.073704  ,  0.09775824],\n",
       "      dtype=float32)"
      ]
     },
     "execution_count": 49,
     "metadata": {},
     "output_type": "execute_result"
    }
   ],
   "source": [
    "base_model['cancer']"
   ]
  },
  {
   "cell_type": "code",
   "execution_count": 50,
   "metadata": {},
   "outputs": [
    {
     "data": {
      "text/plain": [
       "array([-1.70520812e-01,  8.41093529e-03, -8.75078421e-03, -3.57316360e-02,\n",
       "        2.38331594e-03,  1.32049292e-01,  5.25648259e-02,  1.23429373e-01,\n",
       "       -1.41079426e-01, -2.61299778e-03,  2.62961630e-02, -1.36666730e-01,\n",
       "       -1.32432535e-01,  8.50166567e-03,  9.44644213e-02,  4.98592705e-02,\n",
       "       -4.28421125e-02,  6.25300780e-02,  1.33713698e-02, -2.17253193e-02,\n",
       "       -1.85960941e-02,  6.39020354e-02,  8.23876560e-02,  8.77231639e-03,\n",
       "        1.54439300e-01, -3.04225273e-02, -6.47986531e-02, -1.58147842e-01,\n",
       "        1.51591636e-02,  4.06501517e-02, -8.22627544e-02, -5.49315810e-02,\n",
       "       -6.43004999e-02,  9.79887918e-02,  5.55504411e-02,  2.72452533e-02,\n",
       "        1.32259831e-01,  2.79256925e-02,  3.41631882e-02,  3.37711885e-03,\n",
       "       -5.24783432e-02,  4.10486124e-02,  2.87888069e-02,  6.99759424e-02,\n",
       "        6.46798089e-02, -6.70677572e-02,  4.33315635e-02,  2.29329132e-02,\n",
       "       -1.49418831e-01, -2.07917746e-02, -2.15293378e-01, -7.65179768e-02,\n",
       "        5.37038669e-02,  1.04490705e-01, -9.21100378e-02,  3.53732072e-02,\n",
       "       -1.85836274e-02,  1.18343428e-01,  4.63096760e-02, -4.14143950e-02,\n",
       "       -6.73976913e-03, -5.40684611e-02, -9.44480002e-02, -2.46891356e-03,\n",
       "        3.58387940e-02, -5.52068949e-02,  3.05813830e-02, -6.54367497e-04,\n",
       "       -1.13965914e-01,  2.22697984e-02, -2.96549555e-02, -6.87669516e-02,\n",
       "        2.76769530e-02,  1.92363397e-03, -5.79569489e-02, -2.77101565e-02,\n",
       "       -8.55920911e-02, -8.17551762e-02, -6.83411360e-02, -1.10830829e-01,\n",
       "       -3.62286754e-02,  1.29412398e-01, -3.00556757e-02,  5.55285849e-02,\n",
       "       -6.68807421e-03,  8.10945779e-03,  1.90848093e-02, -2.15600505e-02,\n",
       "        3.14935707e-02,  3.42750400e-02, -5.32354079e-02, -1.13643982e-01,\n",
       "        5.88742234e-02, -9.14689451e-02, -4.57109846e-02, -5.71945682e-02,\n",
       "       -6.81604818e-02, -6.93131685e-02,  2.16230028e-03,  4.47117835e-02,\n",
       "       -8.19367915e-03,  3.56015489e-02, -1.52954040e-03,  6.50210977e-02,\n",
       "        3.32699306e-02,  1.73548586e-04,  1.52195305e-01,  7.07314163e-02,\n",
       "       -6.43959343e-02,  2.40313821e-02,  1.35858417e-01, -8.55713636e-02,\n",
       "       -5.64367101e-02, -8.19768757e-02,  3.37164067e-02, -7.04931542e-02,\n",
       "       -1.97893102e-02, -3.23972814e-02, -3.99183743e-02,  3.01957205e-02,\n",
       "       -8.80566239e-02,  2.60461960e-02, -2.85889953e-02, -1.70632228e-02,\n",
       "       -6.41971454e-02, -1.74398407e-01,  6.24086931e-02,  6.55789003e-02,\n",
       "       -2.42629647e-02,  4.14717495e-02,  1.07772604e-01, -1.04095051e-02,\n",
       "        4.95297834e-02,  2.46616751e-02,  4.09036176e-03,  4.56417771e-03,\n",
       "        9.12861377e-02,  1.59755617e-01, -1.31562009e-01,  2.61666272e-02,\n",
       "       -1.47725776e-01, -4.16445099e-02, -1.10409692e-01,  2.83929985e-04,\n",
       "       -3.25437225e-02, -5.35136424e-02,  2.37655807e-02,  2.62883324e-02,\n",
       "        1.33955982e-02,  1.04485653e-01, -7.70683214e-02,  3.41181345e-02,\n",
       "        3.62234563e-03,  2.35173758e-03, -8.58771503e-02, -2.51216926e-02,\n",
       "       -6.09828569e-02, -5.79477362e-02, -5.96950427e-02,  2.24016402e-02,\n",
       "        6.86515346e-02, -3.15676294e-02, -4.93287593e-02,  4.52166796e-02,\n",
       "        7.72180557e-02, -7.66802505e-02,  3.27443928e-02,  6.18893243e-02,\n",
       "       -3.42377573e-02, -6.52615679e-03,  1.21101111e-01, -1.15849469e-02,\n",
       "        6.29135147e-02, -1.13414906e-01,  1.14105064e-02,  5.43525703e-02,\n",
       "        6.14303872e-02,  1.60064399e-02, -4.38818745e-02,  6.09938465e-02,\n",
       "       -2.85436921e-02, -4.28306721e-02,  3.46302539e-02, -7.77746290e-02,\n",
       "        1.11580431e-01, -7.16763437e-02, -1.28424153e-01, -1.09401070e-01,\n",
       "       -1.21240951e-01,  8.24627583e-04,  1.67468078e-02,  3.59871723e-02,\n",
       "       -5.81551716e-02, -3.22861299e-02, -1.65552227e-03, -1.68767255e-02,\n",
       "       -1.53063774e-01,  1.12726167e-02, -8.57828781e-02,  2.34613158e-02],\n",
       "      dtype=float32)"
      ]
     },
     "execution_count": 50,
     "metadata": {},
     "output_type": "execute_result"
    }
   ],
   "source": [
    "aligned_model['cancer']"
   ]
  },
  {
   "cell_type": "code",
   "execution_count": 51,
   "metadata": {},
   "outputs": [
    {
     "data": {
      "text/plain": [
       "array([[0.43116736]], dtype=float32)"
      ]
     },
     "execution_count": 51,
     "metadata": {},
     "output_type": "execute_result"
    }
   ],
   "source": [
    "# calculate the cosine similarity between the two models\n",
    "from sklearn.metrics.pairwise import cosine_similarity\n",
    "cosine_similarity([base_model['cancer']], [aligned_model['cancer']])\n",
    "\n"
   ]
  },
  {
   "cell_type": "code",
   "execution_count": 55,
   "metadata": {},
   "outputs": [
    {
     "name": "stdout",
     "output_type": "stream",
     "text": [
      "[[0.31454787]]\n",
      "[[0.4157464]]\n"
     ]
    }
   ],
   "source": [
    "print(cosine_similarity([base_model['cancer']], [base_model['palliative']]))\n",
    "print(cosine_similarity([aligned_model['cancer']], [aligned_model['palliative']]))"
   ]
  },
  {
   "cell_type": "code",
   "execution_count": 56,
   "metadata": {},
   "outputs": [
    {
     "name": "stdout",
     "output_type": "stream",
     "text": [
      "[[0.2616309]]\n",
      "[[0.344328]]\n"
     ]
    }
   ],
   "source": [
    "print(cosine_similarity([base_model['support']], [base_model['palliative']]))\n",
    "print(cosine_similarity([aligned_model['support']], [aligned_model['palliative']]))"
   ]
  },
  {
   "cell_type": "code",
   "execution_count": 57,
   "metadata": {},
   "outputs": [],
   "source": [
    "# convert the aligned_model to a Gensim KeyedVectors object, so we can use the most_similar method\n",
    "\n",
    "def convert_to_keyed_vectors(embeddings):\n",
    "    keyed_vectors = KeyedVectors(vector_size=len(next(iter(embeddings.values()))))\n",
    "    for word, vector in embeddings.items():\n",
    "        keyed_vectors.add_vector(word, vector)\n",
    "    return keyed_vectors\n"
   ]
  },
  {
   "cell_type": "code",
   "execution_count": 58,
   "metadata": {},
   "outputs": [
    {
     "name": "stderr",
     "output_type": "stream",
     "text": [
      "/Users/guolu/opt/anaconda3/lib/python3.9/site-packages/gensim/models/keyedvectors.py:551: UserWarning: Adding single vectors to a KeyedVectors which grows by one each time can be costly. Consider adding in batches or preallocating to the required size.\n",
      "  warnings.warn(\n"
     ]
    },
    {
     "data": {
      "text/plain": [
       "[('palliation', 0.8846188187599182),\n",
       " ('palliative-care', 0.750785768032074),\n",
       " ('pain', 0.6960253119468689),\n",
       " ('neck-pain', 0.69566810131073),\n",
       " ('painless', 0.6946258544921875),\n",
       " ('painful', 0.6772064566612244),\n",
       " ('palliative-medicine', 0.675298273563385),\n",
       " ('glossalgia', 0.6746706366539001),\n",
       " ('pain-postoperative', 0.660344123840332),\n",
       " ('flank-pain', 0.658454954624176)]"
      ]
     },
     "execution_count": 58,
     "metadata": {},
     "output_type": "execute_result"
    }
   ],
   "source": [
    "aligned_model_embed = convert_to_keyed_vectors(aligned_model)\n",
    "aligned_model_embed.most_similar('palliative', topn=10)"
   ]
  },
  {
   "cell_type": "code",
   "execution_count": 59,
   "metadata": {},
   "outputs": [
    {
     "data": {
      "text/plain": [
       "[('palliation', 0.8846188187599182),\n",
       " ('palliative-care', 0.7507857084274292),\n",
       " ('pain', 0.6960252523422241),\n",
       " ('neck-pain', 0.6956680417060852),\n",
       " ('painless', 0.6946257948875427),\n",
       " ('pallipes', 0.6869878172874451),\n",
       " ('painful', 0.6772063970565796),\n",
       " ('palliative-medicine', 0.675298273563385),\n",
       " ('glossalgia', 0.6746705174446106),\n",
       " ('pain-postoperative', 0.660344123840332)]"
      ]
     },
     "execution_count": 59,
     "metadata": {},
     "output_type": "execute_result"
    }
   ],
   "source": [
    "other_2023.most_similar('palliative', topn=10)"
   ]
  },
  {
   "cell_type": "markdown",
   "metadata": {},
   "source": [
    "Some most similar words changed after alignment, but the most similar words are still similar."
   ]
  },
  {
   "cell_type": "code",
   "execution_count": 60,
   "metadata": {},
   "outputs": [
    {
     "name": "stderr",
     "output_type": "stream",
     "text": [
      "/Users/guolu/opt/anaconda3/lib/python3.9/site-packages/gensim/models/keyedvectors.py:551: UserWarning: Adding single vectors to a KeyedVectors which grows by one each time can be costly. Consider adding in batches or preallocating to the required size.\n",
      "  warnings.warn(\n"
     ]
    },
    {
     "data": {
      "text/plain": [
       "[('palliative-care', 0.7936036586761475),\n",
       " ('causative', 0.7582331895828247),\n",
       " ('pain-postoperative', 0.7546005845069885),\n",
       " ('sativa', 0.7240143418312073),\n",
       " ('neck-pain', 0.7199923396110535),\n",
       " ('palliative-medicine', 0.7172513604164124),\n",
       " ('dissipative', 0.7167490720748901),\n",
       " ('curative', 0.7110295295715332),\n",
       " ('putative', 0.7090983390808105),\n",
       " ('cumulative', 0.7028390765190125)]"
      ]
     },
     "execution_count": 60,
     "metadata": {},
     "output_type": "execute_result"
    }
   ],
   "source": [
    "aligned_base_embed = convert_to_keyed_vectors(base_model)\n",
    "aligned_base_embed.most_similar('palliative', topn=10)"
   ]
  },
  {
   "cell_type": "code",
   "execution_count": 61,
   "metadata": {},
   "outputs": [
    {
     "data": {
      "text/plain": [
       "[('palliative-care', 0.7936036586761475),\n",
       " ('causative', 0.7582331299781799),\n",
       " ('pain-postoperative', 0.7546006441116333),\n",
       " ('sativa', 0.7240142226219177),\n",
       " ('neck-pain', 0.7199922800064087),\n",
       " ('palliative-medicine', 0.7172513604164124),\n",
       " ('dissipative', 0.7167489528656006),\n",
       " ('curative', 0.7110295295715332),\n",
       " ('putative', 0.7090983390808105),\n",
       " ('cumulative', 0.7028390169143677)]"
      ]
     },
     "execution_count": 61,
     "metadata": {},
     "output_type": "execute_result"
    }
   ],
   "source": [
    "base_2022.most_similar('palliative', topn=10)"
   ]
  },
  {
   "cell_type": "markdown",
   "metadata": {},
   "source": [
    "The base model's most similar words do not change after alignment."
   ]
  }
 ],
 "metadata": {
  "kernelspec": {
   "display_name": "base",
   "language": "python",
   "name": "python3"
  },
  "language_info": {
   "codemirror_mode": {
    "name": "ipython",
    "version": 3
   },
   "file_extension": ".py",
   "mimetype": "text/x-python",
   "name": "python",
   "nbconvert_exporter": "python",
   "pygments_lexer": "ipython3",
   "version": "3.9.12"
  }
 },
 "nbformat": 4,
 "nbformat_minor": 2
}
