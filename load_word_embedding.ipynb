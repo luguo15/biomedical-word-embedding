{
 "cells": [
  {
   "cell_type": "markdown",
   "metadata": {},
   "source": [
    "# This code is used to load the trained word embedding"
   ]
  },
  {
   "cell_type": "code",
   "execution_count": 1,
   "metadata": {},
   "outputs": [
    {
     "name": "stdout",
     "output_type": "stream",
     "text": [
      "Vocabulary size: 65158\n",
      "Word vector for 'example': [-0.42975137  0.09639028 -0.0644916  -0.19361119 -0.38732073  0.30273062\n",
      " -0.15525685 -0.60665745 -0.17157058 -0.25152278 -0.112897   -0.30178624\n",
      " -0.3602808   0.00404523  0.17330171 -0.12010033 -0.07743904  0.2541225\n",
      " -0.45435813 -0.27169293 -0.36102885  0.30902573  0.18432762 -0.10428593\n",
      "  0.21664757  0.06879096 -0.00904446 -0.13724717 -0.14287518  0.06079002\n",
      "  0.05112288 -0.2288552   0.06648204  0.03260794 -0.30228814 -0.03156084\n",
      "  0.18253352 -0.1375111   0.14028671 -0.0214145  -0.08279082 -0.24815913\n",
      " -0.03515251  0.30252433 -0.14640044 -0.22884771 -0.24963462  0.03463766\n",
      " -0.4894526   0.11765077  0.04285793  0.10867079 -0.06330054 -0.19963706\n",
      " -0.30961245 -0.22837168 -0.09039363  0.54761606  0.07380778  0.55025727\n",
      " -0.32250398  0.3015863  -0.17057176  0.22769926 -0.2952016  -0.28424153\n",
      "  0.00900664 -0.08833737 -0.10030699 -0.19118325 -0.41357058  0.0726229\n",
      "  0.3054454   0.29081658 -0.43025962  0.09568254 -0.03293893 -0.42716575\n",
      " -0.21915494  0.09561637 -0.02151408  0.11447919  0.24104069  0.02589694\n",
      " -0.26825753 -0.22816773 -0.2876843   0.05854484  0.2642781   0.08417166\n",
      "  0.0358798   0.29757366  0.16748402 -0.12313136  0.1189249   0.28135142\n",
      "  0.24481067 -0.00090245  0.02796086  0.3085913  -0.3195036  -0.15842138\n",
      "  0.1028457  -0.11390857  0.4722859   0.15839729 -0.0399199   0.4843837\n",
      " -0.2189007  -0.42755085 -0.1657719  -0.64477324 -0.11325399 -0.5299639\n",
      "  0.27688074 -0.8808874  -0.35539183  0.20960748 -0.6245649   0.08466373\n",
      " -0.44077304 -0.0250257   0.14464334  0.14868966 -0.8497418   0.29227015\n",
      "  0.41556782 -0.3807333  -0.20151365 -0.16212666 -0.01343528  0.06932157\n",
      "  0.28219676  0.09178133 -0.00563734  0.34910274  0.15667316 -0.24889174\n",
      "  0.4145553   0.23147918 -0.05304809  0.5059609  -0.15962726 -0.06130164\n",
      " -0.162163    0.509189   -0.26968777  0.33146417 -0.09041975  0.2999281\n",
      "  0.22379716 -0.12777255 -0.39189363 -0.01131699  0.18909301  0.16186248\n",
      " -0.17162526 -0.15041932 -0.15961626  0.42660058 -0.02876205  0.1897714\n",
      " -0.06858124  0.39805242 -0.17401122  0.14411393 -0.43675953  0.03102977\n",
      " -0.0655495  -0.11922716 -0.07645793 -0.2033025   0.09474881 -0.16346434\n",
      " -0.02531639 -0.26095116  0.0624916   0.54293615  0.21965377  0.01297961\n",
      " -0.23906368 -0.08773565 -0.14983322  0.30982402 -0.06272765 -0.25921103\n",
      " -0.4201396   0.16241536  0.15817736 -0.17212385 -0.18666051  0.17597711\n",
      "  0.27135116  0.16933626  0.36359483  0.18180221 -0.30820706 -0.5032111\n",
      " -0.5577074  -0.22325528]\n"
     ]
    }
   ],
   "source": [
    "from gensim.models import FastText\n",
    "\n",
    "# Load the trained model\n",
    "model = FastText.load(\"pubmed_mesh_test\")\n",
    "\n",
    "# Check the vocabulary size\n",
    "print(\"Vocabulary size:\", len(model.wv))\n",
    "\n",
    "# Get the word vector for a specific word\n",
    "print(\"Word vector for 'example':\", model.wv[\"example\"])\n"
   ]
  },
  {
   "cell_type": "code",
   "execution_count": 3,
   "metadata": {},
   "outputs": [
    {
     "name": "stdout",
     "output_type": "stream",
     "text": [
      "Similarity between 'smoking' and 'cancer': 0.26923677\n"
     ]
    }
   ],
   "source": [
    "# caluculate the similarity between two words 'smoking' and 'cancer'\n",
    "similarity = model.wv.similarity(\"smoking\", \"cancer\")\n",
    "print(\"Similarity between 'smoking' and 'cancer':\", similarity)"
   ]
  },
  {
   "cell_type": "code",
   "execution_count": 6,
   "metadata": {},
   "outputs": [
    {
     "name": "stdout",
     "output_type": "stream",
     "text": [
      "Most similar words to 'smoking':\n",
      "pipe-smoking 0.9159924983978271\n",
      "tobacco-smoking 0.9020705223083496\n",
      "cigar-smoking 0.8950388431549072\n",
      "cigarette-smoking 0.8555202484130859\n",
      "marijuana-smoking 0.8523404002189636\n",
      "water-pipe-smoking 0.8207129836082458\n",
      "smoking-cessation 0.8196578025817871\n",
      "smoking-pipes 0.8169977068901062\n",
      "tobacco-use 0.8111345767974854\n",
      "cocaine-smoking 0.8066842555999756\n"
     ]
    }
   ],
   "source": [
    "# Find the top-N most similar words to a given word 'smoking', each word in a line\n",
    "print(\"Most similar words to 'smoking':\")\n",
    "for word, score in model.wv.most_similar(\"smoking\", topn=10):\n",
    "    print(word, score)\n"
   ]
  }
 ],
 "metadata": {
  "kernelspec": {
   "display_name": "base",
   "language": "python",
   "name": "python3"
  },
  "language_info": {
   "codemirror_mode": {
    "name": "ipython",
    "version": 3
   },
   "file_extension": ".py",
   "mimetype": "text/x-python",
   "name": "python",
   "nbconvert_exporter": "python",
   "pygments_lexer": "ipython3",
   "version": "3.9.12"
  }
 },
 "nbformat": 4,
 "nbformat_minor": 2
}
